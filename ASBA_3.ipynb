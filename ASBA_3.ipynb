{
  "cells": [
    {
      "cell_type": "markdown",
      "metadata": {
        "id": "view-in-github",
        "colab_type": "text"
      },
      "source": [
        "<a href=\"https://colab.research.google.com/github/ishathombre/ASBA/blob/main/ASBA_3.ipynb\" target=\"_parent\"><img src=\"https://colab.research.google.com/assets/colab-badge.svg\" alt=\"Open In Colab\"/></a>"
      ]
    },
    {
      "cell_type": "markdown",
      "metadata": {
        "id": "g4UUc6GFMryn"
      },
      "source": [
        "##Requirements"
      ]
    },
    {
      "cell_type": "code",
      "execution_count": null,
      "metadata": {
        "id": "2EHwr3nN98bE"
      },
      "outputs": [],
      "source": [
        "!pip install transformers datasets evaluate peft sentencepiece accelerate torch torchvision"
      ]
    },
    {
      "cell_type": "code",
      "execution_count": 2,
      "metadata": {
        "id": "gc98HWRQI2xE"
      },
      "outputs": [],
      "source": [
        "import xml.etree.ElementTree as ET\n",
        "import pandas as pd\n",
        "import numpy as np\n",
        "from transformers import BertTokenizer, BertForSequenceClassification, AdamW\n",
        "from transformers import RobertaTokenizer, RobertaModel, RobertaForSequenceClassification\n",
        "from sklearn.model_selection import train_test_split"
      ]
    },
    {
      "cell_type": "markdown",
      "metadata": {
        "id": "AXJYO3HPM13B"
      },
      "source": [
        "##Data download and parsing\n",
        "\n",
        "Datasets downloaded from https://alt.qcri.org/semeval2014/task4/ Semeval2014 Task 4 (ABSA)"
      ]
    },
    {
      "cell_type": "code",
      "execution_count": 3,
      "metadata": {
        "colab": {
          "base_uri": "https://localhost:8080/"
        },
        "id": "go8N0Lo2NNiI",
        "outputId": "481dd996-13f4-4780-aa68-de43563978d0"
      },
      "outputs": [
        {
          "output_type": "stream",
          "name": "stdout",
          "text": [
            "Cloning into 'ASBA'...\n",
            "remote: Enumerating objects: 95, done.\u001b[K\n",
            "remote: Counting objects: 100% (95/95), done.\u001b[K\n",
            "remote: Compressing objects: 100% (88/88), done.\u001b[K\n",
            "remote: Total 95 (delta 40), reused 0 (delta 0), pack-reused 0\u001b[K\n",
            "Receiving objects: 100% (95/95), 1.02 MiB | 3.56 MiB/s, done.\n",
            "Resolving deltas: 100% (40/40), done.\n"
          ]
        }
      ],
      "source": [
        "!git clone https://github.com/ishathombre/ASBA.git"
      ]
    },
    {
      "cell_type": "code",
      "execution_count": 4,
      "metadata": {
        "id": "10DByM2syB6D",
        "colab": {
          "base_uri": "https://localhost:8080/",
          "height": 66,
          "referenced_widgets": [
            "9e761af51ec44ee3b089adf0f2aaf7fa",
            "d43f23002530442685158534ae19b004",
            "76e94753e25a40f7b45007fde8c4e589",
            "cefd221806be412c95d37b4a2f8794c2",
            "ddaf9edbe13141c385be023eed7557b8",
            "ee38ce0eea6a41298f70b1f30d7bb5cb",
            "6724effc086949f6b033e39b24b74046",
            "f5164f9ac8284ed1aad193b26dc6cda6",
            "246b75bd73964f4bab8751cd72f4d69d",
            "7a417976fd60412aa5e86cbc6f1ab9c9",
            "c92527a49e6c4bde9786e92549274fb2"
          ]
        },
        "outputId": "1b3666e8-df00-499a-b134-ced31e2ffcbc"
      },
      "outputs": [
        {
          "output_type": "stream",
          "name": "stdout",
          "text": [
            "/content/ASBA\n"
          ]
        },
        {
          "output_type": "display_data",
          "data": {
            "text/plain": [
              "Downloading builder script:   0%|          | 0.00/4.20k [00:00<?, ?B/s]"
            ],
            "application/vnd.jupyter.widget-view+json": {
              "version_major": 2,
              "version_minor": 0,
              "model_id": "9e761af51ec44ee3b089adf0f2aaf7fa"
            }
          },
          "metadata": {}
        }
      ],
      "source": [
        "%cd ASBA\n",
        "#import preprocessing\n",
        "#import train\n",
        "from main import *"
      ]
    },
    {
      "cell_type": "code",
      "execution_count": 5,
      "metadata": {
        "id": "HVfOTf0NJC-s"
      },
      "outputs": [],
      "source": [
        "xml_rest = 'Datasets/Restaurants_Train_v2.xml'\n",
        "xml_lapt = 'Datasets/Laptop_Train_v2.xml'"
      ]
    },
    {
      "cell_type": "code",
      "source": [
        "import pandas as pd\n",
        "import xml.etree.ElementTree as ET\n",
        "\n",
        "def xml_to_df(xml_file):\n",
        "    tree = ET.parse(xml_file)\n",
        "    root = tree.getroot()\n",
        "\n",
        "    data = []\n",
        "    for sentence in root.findall('sentence'):\n",
        "        sentence_id = sentence.get('id')\n",
        "        text = sentence.find('text').text\n",
        "\n",
        "        aspect_terms = sentence.find('aspectTerms')\n",
        "        if aspect_terms is not None:\n",
        "            for aspect_term in aspect_terms.findall('aspectTerm'):\n",
        "                term = aspect_term.get('term')\n",
        "                polarity = aspect_term.get('polarity')\n",
        "                from_index = aspect_term.get('from')\n",
        "                to_index = aspect_term.get('to')\n",
        "                data.append([sentence_id, text, term, polarity, from_index, to_index])\n",
        "        else:\n",
        "            data.append([sentence_id, text, None, None, None, None])\n",
        "\n",
        "    df = pd.DataFrame(data, columns=['sentence_id', 'text', 'term', 'polarity', 'from_index', 'to_index'])\n",
        "    return df\n"
      ],
      "metadata": {
        "id": "C816xWc9SkJf"
      },
      "execution_count": 6,
      "outputs": []
    },
    {
      "cell_type": "code",
      "source": [
        "parsed_data = xml_to_df(xml_rest)\n",
        "parsed_data_ = xml_to_df(xml_lapt)"
      ],
      "metadata": {
        "id": "I3mjjnmSTcqq"
      },
      "execution_count": 7,
      "outputs": []
    },
    {
      "cell_type": "markdown",
      "source": [
        "## Data Inspection"
      ],
      "metadata": {
        "id": "4v8Wjs8lM143"
      }
    },
    {
      "cell_type": "code",
      "execution_count": 8,
      "metadata": {
        "colab": {
          "base_uri": "https://localhost:8080/"
        },
        "id": "6wjqhPR49Iit",
        "outputId": "faa258c6-2aad-4e66-e030-62e0c54c87b2"
      },
      "outputs": [
        {
          "output_type": "execute_result",
          "data": {
            "text/plain": [
              "polarity\n",
              "positive    2164\n",
              "negative     805\n",
              "neutral      633\n",
              "conflict      91\n",
              "Name: count, dtype: int64"
            ]
          },
          "metadata": {},
          "execution_count": 8
        }
      ],
      "source": [
        "parsed_data['polarity'].value_counts()"
      ]
    },
    {
      "cell_type": "code",
      "source": [
        "parsed_data['term'].value_counts()"
      ],
      "metadata": {
        "colab": {
          "base_uri": "https://localhost:8080/"
        },
        "id": "3jfmnsn2NKJL",
        "outputId": "2677ab25-1324-4ce9-c8bc-fe5d2bc33256"
      },
      "execution_count": 9,
      "outputs": [
        {
          "output_type": "execute_result",
          "data": {
            "text/plain": [
              "term\n",
              "food                              357\n",
              "service                           206\n",
              "place                              64\n",
              "prices                             60\n",
              "menu                               57\n",
              "                                 ... \n",
              "porcini mushroom pasta special      1\n",
              "seafood tagliatelle                 1\n",
              "spicy wontons                       1\n",
              "chicken vindaloo                    1\n",
              "tomatoes                            1\n",
              "Name: count, Length: 1288, dtype: int64"
            ]
          },
          "metadata": {},
          "execution_count": 9
        }
      ]
    },
    {
      "cell_type": "code",
      "source": [
        "parsed_data_['term'].value_counts()"
      ],
      "metadata": {
        "colab": {
          "base_uri": "https://localhost:8080/"
        },
        "id": "H2Fg_K61NNBC",
        "outputId": "54cb870b-83b5-4455-fae6-447fc7074f73"
      },
      "execution_count": null,
      "outputs": [
        {
          "output_type": "execute_result",
          "data": {
            "text/plain": [
              "term\n",
              "screen            58\n",
              "price             55\n",
              "use               53\n",
              "battery life      52\n",
              "battery           45\n",
              "                  ..\n",
              "OpenOffice         1\n",
              "PRODUCT KEY        1\n",
              "one touch keys     1\n",
              "Delivery           1\n",
              "stability          1\n",
              "Name: count, Length: 1042, dtype: int64"
            ]
          },
          "metadata": {},
          "execution_count": 56
        }
      ]
    },
    {
      "cell_type": "code",
      "source": [
        "parsed_data_['polarity'].value_counts()"
      ],
      "metadata": {
        "colab": {
          "base_uri": "https://localhost:8080/"
        },
        "id": "_k9iqqRrNXt1",
        "outputId": "f6af690e-8e87-4a0b-d6dd-fa28cc0648d4"
      },
      "execution_count": null,
      "outputs": [
        {
          "output_type": "execute_result",
          "data": {
            "text/plain": [
              "polarity\n",
              "positive    987\n",
              "negative    866\n",
              "neutral     460\n",
              "conflict     45\n",
              "Name: count, dtype: int64"
            ]
          },
          "metadata": {},
          "execution_count": 52
        }
      ]
    },
    {
      "cell_type": "code",
      "source": [
        "print(parsed_data)"
      ],
      "metadata": {
        "id": "CxWHdhUxNe9-"
      },
      "execution_count": null,
      "outputs": []
    },
    {
      "cell_type": "code",
      "source": [
        "#df = pd.concat([parsed_data,parsed_data_], ignore_index=True)\n",
        "df = pd.DataFrame(parsed_data)"
      ],
      "metadata": {
        "id": "1BtO8HP8VkTT"
      },
      "execution_count": 10,
      "outputs": []
    },
    {
      "cell_type": "code",
      "source": [
        "# drop useless columns\n",
        "todrop=['sentence_id', 'from_index', 'to_index']\n",
        "df.drop(columns=todrop, inplace=True)\n",
        "# Remove any NaN values or missing entries\n",
        "df = df.dropna(subset=['term'])"
      ],
      "metadata": {
        "id": "Ap6rJf0aVmRN"
      },
      "execution_count": 11,
      "outputs": []
    },
    {
      "cell_type": "code",
      "source": [
        "print(df)"
      ],
      "metadata": {
        "id": "f5VGvXD7Xrsf"
      },
      "execution_count": null,
      "outputs": []
    },
    {
      "cell_type": "markdown",
      "metadata": {
        "id": "afONRQO4M6gq"
      },
      "source": [
        "##Dataset encoding and Tokenization"
      ]
    },
    {
      "cell_type": "code",
      "source": [
        "class ABSA_Dataset(torch.utils.data.Dataset):\n",
        "    def __init__(self, encodings, labels):\n",
        "        self.encodings = encodings\n",
        "        self.labels = labels\n",
        "\n",
        "    def __getitem__(self, idx):\n",
        "        item = {key: torch.tensor(val[idx]) for key, val in self.encodings.items()}\n",
        "        item['labels'] = torch.tensor(self.labels[idx])\n",
        "        return item\n",
        "\n",
        "    def __len__(self):\n",
        "        return len(self.labels)"
      ],
      "metadata": {
        "id": "3mlDxKC6dRPD"
      },
      "execution_count": 13,
      "outputs": []
    },
    {
      "cell_type": "code",
      "execution_count": 15,
      "metadata": {
        "id": "XTquq9cP7VUu",
        "colab": {
          "base_uri": "https://localhost:8080/"
        },
        "outputId": "a240f64c-3713-42fd-a3ae-a376a74c3fa0"
      },
      "outputs": [
        {
          "output_type": "stream",
          "name": "stdout",
          "text": [
            "Shape of training set: (2954, 3)\n",
            "Shape of val set: (739, 3)\n"
          ]
        }
      ],
      "source": [
        "import torch\n",
        "from transformers import AutoTokenizer, BertTokenizer, RobertaTokenizer, RobertaModel, RobertaForSequenceClassification\n",
        "from datasets import Dataset\n",
        "from sklearn.model_selection import train_test_split\n",
        "\n",
        "#tokenizer = BertTokenizer.from_pretrained('bert-base-uncased', do_lower_case=True)\n",
        "#tokenizer = RobertaTokenizer.from_pretrained('roberta-base')\n",
        "\n",
        "# Splitting the DataFrame into two parts with a proportion of 80% and 20% (Train and Test)\n",
        "df_train, df_test = train_test_split(df, test_size=0.2, random_state=42)\n",
        "\n",
        "# Printing the shapes of the resulting DataFrames\n",
        "print(\"Shape of training set:\", df_train.shape)\n",
        "print(\"Shape of val set:\", df_test.shape)\n",
        "\n",
        "label_map = {'negative': 0, 'neutral': 1, 'positive': 2, 'conflict':3}  # Mapping of string labels to integer values\n",
        "\n",
        "df_train['polarity'] = df['polarity'].map(label_map)\n",
        "df_test['polarity'] = df['polarity'].map(label_map)\n",
        "\n",
        "train_texts = df_train['text'].tolist()\n",
        "train_terms = df_train['term'].tolist()\n",
        "train_labels = df_train['polarity'].tolist()\n",
        "\n",
        "val_texts = df_train['text'].tolist()\n",
        "val_terms = df_test['term'].tolist()\n",
        "val_labels = df_test['polarity'].tolist()\n",
        "\n",
        "tokenizer = AutoTokenizer.from_pretrained('bert-base-uncased', do_lower_case=True)\n",
        "\n",
        "train_encodings = tokenizer(train_texts, padding=\"max_length\", truncation=True, max_length=512) #removed return_tensors=\"pt\"\n",
        "val_encodings = tokenizer(val_texts, padding=\"max_length\", truncation=True, max_length=512)\n",
        "\n",
        "train_dataset = ABSA_Dataset(train_encodings, train_labels)\n",
        "val_dataset = ABSA_Dataset(val_encodings, val_labels)"
      ]
    },
    {
      "cell_type": "code",
      "execution_count": null,
      "metadata": {
        "id": "cOhhsbeQMTVb"
      },
      "outputs": [],
      "source": [
        "train_dataset.encodings"
      ]
    },
    {
      "cell_type": "code",
      "source": [
        "train_dataset.labels"
      ],
      "metadata": {
        "id": "NoGbCD-PbeY-"
      },
      "execution_count": null,
      "outputs": []
    },
    {
      "cell_type": "markdown",
      "metadata": {
        "id": "yEqA8quCYj2h"
      },
      "source": [
        "##Models and Training"
      ]
    },
    {
      "cell_type": "code",
      "source": [
        "import matplotlib.pyplot as plt\n",
        "import numpy as np\n",
        "import torch\n",
        "\n",
        "def compute_metrics(eval_pred):\n",
        "    logits, labels = eval_pred\n",
        "    loss = torch.nn.CrossEntropyLoss()(torch.tensor(logits), torch.tensor(labels)).item()\n",
        "    predictions = np.argmax(logits, axis=-1)\n",
        "    accuracy = (predictions == labels).mean()\n",
        "    return {\"loss\": loss, \"accuracy\": accuracy}\n",
        "\n",
        "class CustomCallback:\n",
        "    def __init__(self):\n",
        "        self.train_losses = []\n",
        "        self.eval_losses = []\n",
        "        self.train_accuracies = []\n",
        "        self.eval_accuracies = []\n",
        "\n",
        "    def __call__(self, trainer, model, eval_dataloader):\n",
        "        train_metrics = trainer.evaluate()\n",
        "        eval_metrics = trainer.evaluate(eval_dataloader)\n",
        "\n",
        "        self.train_losses.append(train_metrics[\"loss\"])\n",
        "        self.eval_losses.append(eval_metrics[\"loss\"])\n",
        "        self.train_accuracies.append(train_metrics[\"accuracy\"])\n",
        "        self.eval_accuracies.append(eval_metrics[\"accuracy\"])\n",
        "\n",
        "        # Plot\n",
        "        plt.figure(figsize=(12, 6))\n",
        "\n",
        "        plt.subplot(1, 2, 1)\n",
        "        plt.plot(self.train_losses, label=\"Train Loss\")\n",
        "        plt.plot(self.eval_losses, label=\"Validation Loss\")\n",
        "        plt.xlabel(\"Epoch\")\n",
        "        plt.ylabel(\"Loss\")\n",
        "        plt.title(\"Training and Validation Loss\")\n",
        "        plt.legend()\n",
        "\n",
        "        plt.subplot(1, 2, 2)\n",
        "        plt.plot(self.train_accuracies, label=\"Train Accuracy\")\n",
        "        plt.plot(self.eval_accuracies, label=\"Validation Accuracy\")\n",
        "        plt.xlabel(\"Epoch\")\n",
        "        plt.ylabel(\"Accuracy\")\n",
        "        plt.title(\"Training and Validation Accuracy\")\n",
        "        plt.legend()\n",
        "\n",
        "        plt.show()\n",
        "\n",
        "# Instantiate the custom callback\n",
        "custom_callback = CustomCallback()"
      ],
      "metadata": {
        "id": "_2_2z_vVw8bl"
      },
      "execution_count": 41,
      "outputs": []
    },
    {
      "cell_type": "code",
      "execution_count": null,
      "metadata": {
        "id": "8_0jCEsr_Jdc"
      },
      "outputs": [],
      "source": [
        "from transformers import BertTokenizer, BertForSequenceClassification, AdamW, TrainingArguments, Trainer\n",
        "from torch.nn import CrossEntropyLoss\n",
        "import torch\n",
        "from torch.utils.data import DataLoader\n",
        "\n",
        "\n",
        "from transformers import logging\n",
        "logging.set_verbosity_debug()\n",
        "\n",
        "\n",
        "# Load tokenizer and encode dataset\n",
        "tokenizer = BertTokenizer.from_pretrained('bert-base-uncased')\n",
        "\n",
        "# Instantiate BERT model\n",
        "model = BertForSequenceClassification.from_pretrained('bert-base-uncased', num_labels=4)\n",
        "\n",
        "epochs = 3\n",
        "batch_size = 16\n",
        "num_steps = len(train_dataset) * epochs // batch_size\n",
        "warmup_steps = num_steps // 10  # 10% of the training steps\n",
        "save_steps = num_steps // epochs    # Save a checkpoint at the end of each epoch\n",
        "optiizer = AdamW(model.parameters(), lr=5e-5)\n",
        "criterion = CrossEntropyLoss()\n",
        "\n",
        "training_args = TrainingArguments(output_dir=\"test_trainer/checkpoint1\",num_train_epochs = epochs,\n",
        "    per_device_train_batch_size = batch_size,\n",
        "    per_device_eval_batch_size = batch_size,\n",
        "    warmup_steps = warmup_steps,\n",
        "    weight_decay = 0.01,\n",
        "    logging_dir = 'logs',\n",
        "    logging_steps = 10,\n",
        "    evaluation_strategy = 'epoch',\n",
        "    learning_rate = 2e-5,\n",
        "    save_steps = save_steps)\n",
        "\n",
        "# Pass the custom callback to the Trainer\n",
        "trainer = Trainer(\n",
        "    model=model,\n",
        "    args=training_args,\n",
        "    train_dataset=train_dataset,\n",
        "    eval_dataset=val_dataset,\n",
        "    compute_metrics=compute_metrics,\n",
        "    #callbacks=[custom_callback]\n",
        ")"
      ]
    },
    {
      "cell_type": "code",
      "source": [
        "trainer.train()"
      ],
      "metadata": {
        "id": "j1v8pTnJtEAO"
      },
      "execution_count": null,
      "outputs": []
    },
    {
      "cell_type": "code",
      "source": [
        "import matplotlib.pyplot as plt\n",
        "\n",
        "def compute_metrics(eval_pred):\n",
        "    logits, labels = eval_pred\n",
        "    loss = torch.nn.CrossEntropyLoss()(torch.tensor(logits), torch.tensor(labels)).item()\n",
        "    predictions = np.argmax(logits, axis=-1)\n",
        "    accuracy = (predictions == labels).mean()\n",
        "    return {\"loss\": loss, \"accuracy\": accuracy}\n",
        "\n",
        "# Assuming you have trained the model and have access to the evaluation dataset\n",
        "train_metrics = []\n",
        "val_metrics = []\n",
        "for epoch in range(epochs):\n",
        "    train_eval = trainer.evaluate(train_dataset)\n",
        "    val_eval = trainer.evaluate(val_dataset)\n",
        "    train_metrics.append(train_eval)\n",
        "    val_metrics.append(val_eval)\n",
        "\n",
        "# Plot\n",
        "epochs_range = range(1, epochs + 1)\n",
        "\n",
        "plt.figure(figsize=(12, 6))\n",
        "\n",
        "# Training and validation losses\n",
        "plt.subplot(1, 2, 1)\n",
        "plt.plot(epochs_range, [metric[\"eval_loss\"] for metric in train_metrics], label=\"Train Loss\")\n",
        "plt.plot(epochs_range, [metric[\"eval_loss\"] for metric in val_metrics], label=\"Validation Loss\")\n",
        "plt.xlabel(\"Epoch\")\n",
        "plt.ylabel(\"Loss\")\n",
        "plt.title(\"Training and Validation Loss\")\n",
        "plt.legend()\n",
        "\n",
        "# Training and validation accuracies\n",
        "plt.subplot(1, 2, 2)\n",
        "plt.plot(epochs_range, [metric[\"eval_accuracy\"] for metric in train_metrics], label=\"Train Accuracy\")\n",
        "plt.plot(epochs_range, [metric[\"eval_accuracy\"] for metric in val_metrics], label=\"Validation Accuracy\")\n",
        "plt.xlabel(\"Epoch\")\n",
        "plt.ylabel(\"Accuracy\")\n",
        "plt.title(\"Training and Validation Accuracy\")\n",
        "plt.legend()\n",
        "\n",
        "plt.show()\n"
      ],
      "metadata": {
        "colab": {
          "base_uri": "https://localhost:8080/",
          "height": 897
        },
        "id": "o5HxTzTS6FlZ",
        "outputId": "57ef95f8-a99e-4975-e826-18c3e54c7f60"
      },
      "execution_count": 53,
      "outputs": [
        {
          "output_type": "stream",
          "name": "stderr",
          "text": [
            "***** Running Evaluation *****\n",
            "  Num examples = 2954\n",
            "  Batch size = 16\n"
          ]
        },
        {
          "output_type": "display_data",
          "data": {
            "text/plain": [
              "<IPython.core.display.HTML object>"
            ],
            "text/html": [
              "\n",
              "    <div>\n",
              "      \n",
              "      <progress value='2006' max='47' style='width:300px; height:20px; vertical-align: middle;'></progress>\n",
              "      [47/47 32:12]\n",
              "    </div>\n",
              "    "
            ]
          },
          "metadata": {}
        },
        {
          "output_type": "stream",
          "name": "stderr",
          "text": [
            "***** Running Evaluation *****\n",
            "  Num examples = 739\n",
            "  Batch size = 16\n",
            "***** Running Evaluation *****\n",
            "  Num examples = 2954\n",
            "  Batch size = 16\n",
            "***** Running Evaluation *****\n",
            "  Num examples = 739\n",
            "  Batch size = 16\n",
            "***** Running Evaluation *****\n",
            "  Num examples = 2954\n",
            "  Batch size = 16\n",
            "***** Running Evaluation *****\n",
            "  Num examples = 739\n",
            "  Batch size = 16\n"
          ]
        },
        {
          "output_type": "display_data",
          "data": {
            "text/plain": [
              "<Figure size 1200x600 with 2 Axes>"
            ],
            "image/png": "[encoded data removed]"
          },
          "metadata": {}
        }
      ]
    },
    {
      "cell_type": "code",
      "source": [
        "# CODE FOR MODIFIED BERT\n",
        "\n",
        "import torch\n",
        "from torch.utils.data import DataLoader\n",
        "from torch.nn import CrossEntropyLoss\n",
        "from transformers import TrainingArguments\n",
        "\n",
        "def train_model(model, train_dataloader, optimizer, num_epochs, training_args):\n",
        "    device = torch.device(\"cuda\" if torch.cuda.is_available() else \"cpu\")\n",
        "    model.to(device)\n",
        "    model.train()\n",
        "\n",
        "    losses = []\n",
        "    accuracies = []\n",
        "\n",
        "    criterion = CrossEntropyLoss()  # Define the cross-entropy loss criterion\n",
        "\n",
        "    for epoch in range(num_epochs):\n",
        "        running_loss = 0.0\n",
        "        correct_predictions = 0\n",
        "        total_predictions = 0\n",
        "\n",
        "        for batch in train_dataloader:\n",
        "            input_ids = batch['input_ids'].to(device)\n",
        "            attention_mask = batch['attention_mask'].to(device)\n",
        "            token_type_ids = batch['token_type_ids'].to(device)\n",
        "            labels = batch['labels'].to(device)\n",
        "\n",
        "            optimizer.zero_grad()\n",
        "\n",
        "            outputs = model(input_ids=input_ids, attention_mask=attention_mask, token_type_ids=token_type_ids, labels=labels)\n",
        "            aspect_logits, polarization_logits = outputs[0], outputs[1]\n",
        "\n",
        "            # Calculate the cross-entropy loss for each output\n",
        "            aspect_loss = criterion(aspect_logits, labels[:, 0])\n",
        "            polarization_loss = criterion(polarization_logits, labels[:, 1])\n",
        "            loss = aspect_loss + polarization_loss\n",
        "\n",
        "            loss.backward()\n",
        "            optimizer.step()\n",
        "\n",
        "            running_loss += loss.item()\n",
        "\n",
        "            # Calculate accuracy\n",
        "            aspect_predictions = aspect_logits.argmax(dim=1)\n",
        "            polarization_predictions = polarization_logits.argmax(dim=1)\n",
        "            correct_predictions += ((aspect_predictions == labels[:, 0]) & (polarization_predictions == labels[:, 1])).sum().item()\n",
        "            total_predictions += labels.size(0)\n",
        "\n",
        "        epoch_loss = running_loss / len(train_dataloader)\n",
        "        epoch_accuracy = correct_predictions / total_predictions\n",
        "\n",
        "        losses.append(epoch_loss)\n",
        "        accuracies.append(epoch_accuracy)\n",
        "\n",
        "        print(f'Epoch {epoch + 1}/{num_epochs}, Loss: {epoch_loss:.4f}, Accuracy: {epoch_accuracy:.4f}')\n",
        "\n",
        "        # Logging training metrics according to logging steps specified in training_args\n",
        "        if epoch % training_args.logging_steps == 0:\n",
        "            # Here, you can log your training metrics as per your requirement\n",
        "            # For example:\n",
        "            # trainer.log_metrics('train_loss', epoch_loss)\n",
        "            # trainer.log_metrics('train_accuracy', epoch_accuracy)\n",
        "\n",
        "    return losses, accuracies\n"
      ],
      "metadata": {
        "id": "WUPXuOJ2lGvX"
      },
      "execution_count": null,
      "outputs": []
    },
    {
      "cell_type": "code",
      "source": [
        "#train_model(model, train_dataset, optimizer, num_epochs, training_args)"
      ],
      "metadata": {
        "id": "c64atwM3hE7L"
      },
      "execution_count": 44,
      "outputs": []
    },
    {
      "cell_type": "code",
      "execution_count": null,
      "metadata": {
        "id": "V9w04c6cjbzC"
      },
      "outputs": [],
      "source": [
        "model_1 = RobertaForSequenceClassification.from_pretrained('roberta-base', num_labels=4)\n",
        "\n",
        "# Pass the custom callback to the Trainer\n",
        "trainer = Trainer(\n",
        "    model=model_1,\n",
        "    args=training_args,\n",
        "    train_dataset=train_dataset,\n",
        "    eval_dataset=val_dataset,\n",
        "    compute_metrics=compute_metrics,\n",
        ")"
      ]
    },
    {
      "cell_type": "code",
      "execution_count": null,
      "metadata": {
        "id": "19LfywJl_lq6",
        "scrolled": true
      },
      "outputs": [],
      "source": [
        "trainer.train()"
      ]
    },
    {
      "cell_type": "code",
      "source": [
        "checkpoint_path = 'roberta'\n",
        "torch.save(model_1, checkpoint_path)"
      ],
      "metadata": {
        "id": "lIq8_C0S1QRb"
      },
      "execution_count": null,
      "outputs": []
    },
    {
      "cell_type": "markdown",
      "metadata": {
        "id": "qGPyGL-H6iM7"
      },
      "source": [
        "##Testing"
      ]
    },
    {
      "cell_type": "code",
      "source": [
        "# THIS CODE IS FOR TESTING, NEED TEST SPLIT\n",
        "import torch\n",
        "from torch.utils.data import Dataset, DataLoader\n",
        "from transformers import BertTokenizer, BertForSequenceClassification\n",
        "from datasets import load_dataset\n",
        "\n",
        "# Define a custom dataset class for testing\n",
        "class TestDataset(Dataset):\n",
        "    def __init__(self, sentences, tokenizer, max_length):\n",
        "        self.sentences = sentences\n",
        "        self.tokenizer = tokenizer\n",
        "        self.max_length = max_length\n",
        "\n",
        "    def __len__(self):\n",
        "        return len(self.sentences)\n",
        "\n",
        "    def __getitem__(self, idx):\n",
        "        sentence = self.sentences[idx]\n",
        "        inputs = self.tokenizer.encode_plus(\n",
        "            sentence,\n",
        "            add_special_tokens=True,\n",
        "            max_length=self.max_length,\n",
        "            padding='max_length',\n",
        "            return_token_type_ids=True,\n",
        "            return_attention_mask=True,\n",
        "            truncation=True\n",
        "        )\n",
        "        return {\n",
        "            'input_ids': torch.tensor(inputs['input_ids'], dtype=torch.long),\n",
        "            'attention_mask': torch.tensor(inputs['attention_mask'], dtype=torch.long),\n",
        "            'token_type_ids': torch.tensor(inputs['token_type_ids'], dtype=torch.long)\n",
        "        }\n",
        "\n",
        "# Load tokenizer\n",
        "tokenizer = BertTokenizer.from_pretrained('bert-base-uncased')\n",
        "\n",
        "# Define sentences for testing\n",
        "test_sentences = [\n",
        "    \"This movie was fantastic!\",\n",
        "    \"The acting was terrible, but the plot was good.\",\n",
        "    \"I enjoyed the movie overall.\"\n",
        "]\n",
        "\n",
        "# Instantiate the test dataset\n",
        "test_dataset = TestDataset(test_sentences, tokenizer, max_length=128)\n",
        "\n",
        "# Define batch size and create data loader\n",
        "batch_size = 1\n",
        "test_loader = DataLoader(test_dataset, batch_size=batch_size)\n",
        "\n",
        "# Load the fine-tuned model\n",
        "model = BertForSequenceClassification.from_pretrained('bert-base-uncased', num_labels=2)  # Make sure to load the correct model\n",
        "\n",
        "# Perform inference on the test dataset\n",
        "for batch in test_loader:\n",
        "    input_ids = batch['input_ids']\n",
        "    attention_mask = batch['attention_mask']\n",
        "    token_type_ids = batch['token_type_ids']\n",
        "\n",
        "    with torch.no_grad():\n",
        "        outputs = model(input_ids, attention_mask=attention_mask, token_type_ids=token_type_ids)\n",
        "\n",
        "    predicted_label = torch.argmax(outputs.logits, dim=1).item()\n",
        "    print(\"Sentence:\", tokenizer.decode(input_ids.squeeze().tolist(), skip_special_tokens=True))\n",
        "    print(\"Predicted Label:\", predicted_label)\n",
        "    print()"
      ],
      "metadata": {
        "colab": {
          "base_uri": "https://localhost:8080/"
        },
        "id": "tp4Om_jZZ528",
        "outputId": "9c857013-1d3b-4a8b-970f-0cd88239ae57"
      },
      "execution_count": 54,
      "outputs": [
        {
          "output_type": "stream",
          "name": "stderr",
          "text": [
            "loading file vocab.txt from cache at /root/.cache/huggingface/hub/models--bert-base-uncased/snapshots/86b5e0934494bd15c9632b12f734a8a67f723594/vocab.txt\n",
            "loading file added_tokens.json from cache at None\n",
            "loading file special_tokens_map.json from cache at None\n",
            "loading file tokenizer_config.json from cache at /root/.cache/huggingface/hub/models--bert-base-uncased/snapshots/86b5e0934494bd15c9632b12f734a8a67f723594/tokenizer_config.json\n",
            "loading file tokenizer.json from cache at /root/.cache/huggingface/hub/models--bert-base-uncased/snapshots/86b5e0934494bd15c9632b12f734a8a67f723594/tokenizer.json\n",
            "loading configuration file config.json from cache at /root/.cache/huggingface/hub/models--bert-base-uncased/snapshots/86b5e0934494bd15c9632b12f734a8a67f723594/config.json\n",
            "Model config BertConfig {\n",
            "  \"_name_or_path\": \"bert-base-uncased\",\n",
            "  \"architectures\": [\n",
            "    \"BertForMaskedLM\"\n",
            "  ],\n",
            "  \"attention_probs_dropout_prob\": 0.1,\n",
            "  \"classifier_dropout\": null,\n",
            "  \"gradient_checkpointing\": false,\n",
            "  \"hidden_act\": \"gelu\",\n",
            "  \"hidden_dropout_prob\": 0.1,\n",
            "  \"hidden_size\": 768,\n",
            "  \"initializer_range\": 0.02,\n",
            "  \"intermediate_size\": 3072,\n",
            "  \"layer_norm_eps\": 1e-12,\n",
            "  \"max_position_embeddings\": 512,\n",
            "  \"model_type\": \"bert\",\n",
            "  \"num_attention_heads\": 12,\n",
            "  \"num_hidden_layers\": 12,\n",
            "  \"pad_token_id\": 0,\n",
            "  \"position_embedding_type\": \"absolute\",\n",
            "  \"transformers_version\": \"4.38.2\",\n",
            "  \"type_vocab_size\": 2,\n",
            "  \"use_cache\": true,\n",
            "  \"vocab_size\": 30522\n",
            "}\n",
            "\n",
            "loading configuration file config.json from cache at /root/.cache/huggingface/hub/models--bert-base-uncased/snapshots/86b5e0934494bd15c9632b12f734a8a67f723594/config.json\n",
            "Model config BertConfig {\n",
            "  \"architectures\": [\n",
            "    \"BertForMaskedLM\"\n",
            "  ],\n",
            "  \"attention_probs_dropout_prob\": 0.1,\n",
            "  \"classifier_dropout\": null,\n",
            "  \"gradient_checkpointing\": false,\n",
            "  \"hidden_act\": \"gelu\",\n",
            "  \"hidden_dropout_prob\": 0.1,\n",
            "  \"hidden_size\": 768,\n",
            "  \"initializer_range\": 0.02,\n",
            "  \"intermediate_size\": 3072,\n",
            "  \"layer_norm_eps\": 1e-12,\n",
            "  \"max_position_embeddings\": 512,\n",
            "  \"model_type\": \"bert\",\n",
            "  \"num_attention_heads\": 12,\n",
            "  \"num_hidden_layers\": 12,\n",
            "  \"pad_token_id\": 0,\n",
            "  \"position_embedding_type\": \"absolute\",\n",
            "  \"transformers_version\": \"4.38.2\",\n",
            "  \"type_vocab_size\": 2,\n",
            "  \"use_cache\": true,\n",
            "  \"vocab_size\": 30522\n",
            "}\n",
            "\n",
            "loading weights file model.safetensors from cache at /root/.cache/huggingface/hub/models--bert-base-uncased/snapshots/86b5e0934494bd15c9632b12f734a8a67f723594/model.safetensors\n",
            "Some weights of the model checkpoint at bert-base-uncased were not used when initializing BertForSequenceClassification: ['cls.predictions.bias', 'cls.predictions.transform.LayerNorm.bias', 'cls.predictions.transform.LayerNorm.weight', 'cls.predictions.transform.dense.bias', 'cls.predictions.transform.dense.weight', 'cls.seq_relationship.bias', 'cls.seq_relationship.weight']\n",
            "- This IS expected if you are initializing BertForSequenceClassification from the checkpoint of a model trained on another task or with another architecture (e.g. initializing a BertForSequenceClassification model from a BertForPreTraining model).\n",
            "- This IS NOT expected if you are initializing BertForSequenceClassification from the checkpoint of a model that you expect to be exactly identical (initializing a BertForSequenceClassification model from a BertForSequenceClassification model).\n",
            "Some weights of BertForSequenceClassification were not initialized from the model checkpoint at bert-base-uncased and are newly initialized: ['classifier.bias', 'classifier.weight']\n",
            "You should probably TRAIN this model on a down-stream task to be able to use it for predictions and inference.\n"
          ]
        },
        {
          "output_type": "stream",
          "name": "stdout",
          "text": [
            "Sentence: this movie was fantastic!\n",
            "Predicted Label: 1\n",
            "\n",
            "Sentence: the acting was terrible, but the plot was good.\n",
            "Predicted Label: 1\n",
            "\n",
            "Sentence: i enjoyed the movie overall.\n",
            "Predicted Label: 0\n",
            "\n"
          ]
        }
      ]
    },
    {
      "cell_type": "code",
      "source": [
        "# THIS CODE IS TO TEST THE MODIFIED BERT FOR ABSA\n",
        "\n",
        "import torch\n",
        "from transformers import BertTokenizer\n",
        "from torch.utils.data import Dataset, DataLoader\n",
        "\n",
        "\n",
        "# Load tokenizer\n",
        "tokenizer = BertTokenizer.from_pretrained('bert-base-uncased')\n",
        "\n",
        "# Define sentences for testing\n",
        "test_sentences = [\n",
        "    \"This movie was fantastic!\",\n",
        "    \"The acting was terrible, but the plot was good.\",\n",
        "    \"I enjoyed the movie overall.\"\n",
        "]\n",
        "\n",
        "# Instantiate the test dataset\n",
        "test_dataset = ABSADataset(test_sentences, tokenizer, max_length=128)\n",
        "\n",
        "# Define batch size and create data loader\n",
        "batch_size = 1\n",
        "test_loader = DataLoader(test_dataset, batch_size=batch_size)\n",
        "\n",
        "# Load the fine-tuned model\n",
        "model = CustomBERTForAspectPolarization(num_aspect_labels, num_polarization_labels)\n",
        "model.load_state_dict(torch.load(\"path_to_model_checkpoint.pth\"))\n",
        "model.eval()\n",
        "\n",
        "# Perform inference on the test dataset\n",
        "for batch in test_loader:\n",
        "    input_ids = batch['input_ids']\n",
        "    attention_mask = batch['attention_mask']\n",
        "    token_type_ids = batch['token_type_ids']\n",
        "\n",
        "    with torch.no_grad():\n",
        "        aspect_logits, polarization_logits = model(input_ids, attention_mask=attention_mask, token_type_ids=token_type_ids)\n",
        "\n",
        "    predicted_aspect = torch.argmax(aspect_logits, dim=1).item()\n",
        "    predicted_polarization = torch.argmax(polarization_logits, dim=1).item()\n",
        "\n",
        "    print(f\"Sentence: {tokenizer.decode(input_ids.squeeze().tolist(), skip_special_tokens=True)}\")\n",
        "    print(f\"Predicted Aspect: {predicted_aspect}\")\n",
        "    print(f\"Predicted Polarization: {predicted_polarization}\")\n",
        "    print()\n"
      ],
      "metadata": {
        "id": "N1tjLv8DU9Hs"
      },
      "execution_count": null,
      "outputs": []
    },
    {
      "cell_type": "markdown",
      "source": [
        "## Confusion Matrix on predictions to compute other metrics (tbd)"
      ],
      "metadata": {
        "id": "s_gTkk371021"
      }
    },
    {
      "cell_type": "code",
      "source": [
        "from sklearn.metrics import confusion_matrix\n",
        "\n",
        "# Compute the confusion matrix\n",
        "cm = confusion_matrix(labels, predicted_label)\n",
        "\n",
        "print(\"Confusion Matrix:\")\n",
        "print(cm)"
      ],
      "metadata": {
        "id": "Ce8iUwYS1-LL"
      },
      "execution_count": null,
      "outputs": []
    },
    {
      "cell_type": "markdown",
      "source": [
        "## code snippets and Ideas"
      ],
      "metadata": {
        "id": "3lZu0NSTVGz0"
      }
    },
    {
      "cell_type": "code",
      "source": [
        "# IDEAS: ADD A SOFTMAX LAYER TO GET OUTPUT PROBS\n",
        "import torch\n",
        "from transformers import BertTokenizer, BertForSequenceClassification\n",
        "from torch.nn import Softmax\n",
        "\n",
        "# Load pre-trained BERT model and tokenizer\n",
        "model_name = 'bert-base-uncased'\n",
        "tokenizer = BertTokenizer.from_pretrained(model_name)\n",
        "model = BertForSequenceClassification.from_pretrained(model_name)\n",
        "\n",
        "# Example input text\n",
        "input_text = \"Your input text goes here.\"\n",
        "\n",
        "# Tokenize input text\n",
        "inputs = tokenizer(input_text, return_tensors='pt')\n",
        "\n",
        "# Forward pass through BERT model\n",
        "outputs = model(**inputs)\n",
        "\n",
        "# Get logits from the last layer of BERT\n",
        "logits = outputs.logits\n",
        "\n",
        "# Apply softmax to get probabilities\n",
        "softmax = Softmax(dim=1)\n",
        "probabilities = softmax(logits)\n",
        "\n",
        "# Convert probabilities to numpy array for easier manipulation\n",
        "probabilities = probabilities.detach().numpy()\n",
        "\n",
        "# Print probabilities\n",
        "print(probabilities)\n"
      ],
      "metadata": {
        "id": "lXnZ4n68K4Ja"
      },
      "execution_count": null,
      "outputs": []
    },
    {
      "cell_type": "code",
      "source": [
        "from evaluate import evaluator\n",
        "\n",
        "task_evaluator = evaluator(\"text-classification\")\n",
        "eval_results = task_evaluator.compute(\n",
        "    model_or_pipeline=model_1,\n",
        "    data=eval_encodings,\n",
        "    metric=evaluate.combine([\"accuracy\", \"recall\", \"precision\", \"f1\"]),\n",
        "    label_mapping={'negative': 0, 'neutral': 1, 'positive': 2, 'conflict':3}\n",
        ")\n",
        "print(eval_results)"
      ],
      "metadata": {
        "id": "OOPxdKfp6PwA"
      },
      "execution_count": null,
      "outputs": []
    },
    {
      "cell_type": "code",
      "execution_count": null,
      "metadata": {
        "id": "dR2UAfRX4ffs"
      },
      "outputs": [],
      "source": [
        "# evaluate the model\n",
        "model_1.eval()"
      ]
    },
    {
      "cell_type": "code",
      "execution_count": null,
      "metadata": {
        "id": "cgENXCXdEgnU"
      },
      "outputs": [],
      "source": [
        "import matplotlib.pyplot as plt\n",
        "\n",
        "# Assuming you have access to the evaluation metrics for each epoch\n",
        "# Let's say you have lists 'eval_loss' and 'eval_accuracy' containing these metrics for each epoch\n",
        "\n",
        "def plot_metrics(metrics, metric_name):\n",
        "    plt.plot(epochs, metrics, label=metric_name)\n",
        "    plt.xlabel('Epoch')\n",
        "    plt.ylabel(metric_name)\n",
        "    plt.legend()\n",
        "    plt.show()\n",
        "\n",
        "plot_metrics(evaluation_metrics['eval_accuracy'], 'Evaluation Accuracy')\n",
        "plot_metrics(evaluation_metrics['eval_loss'], 'Evaluation Loss')\n"
      ]
    }
  ],
  "metadata": {
    "colab": {
      "provenance": [],
      "gpuType": "T4",
      "include_colab_link": true
    },
    "kernelspec": {
      "display_name": "Python 3",
      "name": "python3"
    },
    "language_info": {
      "codemirror_mode": {
        "name": "ipython",
        "version": 3
      },
      "file_extension": ".py",
      "mimetype": "text/x-python",
      "name": "python",
      "nbconvert_exporter": "python",
      "pygments_lexer": "ipython3",
      "version": "3.10.9"
    },
    "widgets": {
      "application/vnd.jupyter.widget-state+json": {
        "9e761af51ec44ee3b089adf0f2aaf7fa": {
          "model_module": "@jupyter-widgets/controls",
          "model_name": "HBoxModel",
          "model_module_version": "1.5.0",
          "state": {
            "_dom_classes": [],
            "_model_module": "@jupyter-widgets/controls",
            "_model_module_version": "1.5.0",
            "_model_name": "HBoxModel",
            "_view_count": null,
            "_view_module": "@jupyter-widgets/controls",
            "_view_module_version": "1.5.0",
            "_view_name": "HBoxView",
            "box_style": "",
            "children": [
              "IPY_MODEL_d43f23002530442685158534ae19b004",
              "IPY_MODEL_76e94753e25a40f7b45007fde8c4e589",
              "IPY_MODEL_cefd221806be412c95d37b4a2f8794c2"
            ],
            "layout": "IPY_MODEL_ddaf9edbe13141c385be023eed7557b8"
          }
        },
        "d43f23002530442685158534ae19b004": {
          "model_module": "@jupyter-widgets/controls",
          "model_name": "HTMLModel",
          "model_module_version": "1.5.0",
          "state": {
            "_dom_classes": [],
            "_model_module": "@jupyter-widgets/controls",
            "_model_module_version": "1.5.0",
            "_model_name": "HTMLModel",
            "_view_count": null,
            "_view_module": "@jupyter-widgets/controls",
            "_view_module_version": "1.5.0",
            "_view_name": "HTMLView",
            "description": "",
            "description_tooltip": null,
            "layout": "IPY_MODEL_ee38ce0eea6a41298f70b1f30d7bb5cb",
            "placeholder": "​",
            "style": "IPY_MODEL_6724effc086949f6b033e39b24b74046",
            "value": "Downloading builder script: 100%"
          }
        },
        "76e94753e25a40f7b45007fde8c4e589": {
          "model_module": "@jupyter-widgets/controls",
          "model_name": "FloatProgressModel",
          "model_module_version": "1.5.0",
          "state": {
            "_dom_classes": [],
            "_model_module": "@jupyter-widgets/controls",
            "_model_module_version": "1.5.0",
            "_model_name": "FloatProgressModel",
            "_view_count": null,
            "_view_module": "@jupyter-widgets/controls",
            "_view_module_version": "1.5.0",
            "_view_name": "ProgressView",
            "bar_style": "success",
            "description": "",
            "description_tooltip": null,
            "layout": "IPY_MODEL_f5164f9ac8284ed1aad193b26dc6cda6",
            "max": 4203,
            "min": 0,
            "orientation": "horizontal",
            "style": "IPY_MODEL_246b75bd73964f4bab8751cd72f4d69d",
            "value": 4203
          }
        },
        "cefd221806be412c95d37b4a2f8794c2": {
          "model_module": "@jupyter-widgets/controls",
          "model_name": "HTMLModel",
          "model_module_version": "1.5.0",
          "state": {
            "_dom_classes": [],
            "_model_module": "@jupyter-widgets/controls",
            "_model_module_version": "1.5.0",
            "_model_name": "HTMLModel",
            "_view_count": null,
            "_view_module": "@jupyter-widgets/controls",
            "_view_module_version": "1.5.0",
            "_view_name": "HTMLView",
            "description": "",
            "description_tooltip": null,
            "layout": "IPY_MODEL_7a417976fd60412aa5e86cbc6f1ab9c9",
            "placeholder": "​",
            "style": "IPY_MODEL_c92527a49e6c4bde9786e92549274fb2",
            "value": " 4.20k/4.20k [00:00&lt;00:00, 290kB/s]"
          }
        },
        "ddaf9edbe13141c385be023eed7557b8": {
          "model_module": "@jupyter-widgets/base",
          "model_name": "LayoutModel",
          "model_module_version": "1.2.0",
          "state": {
            "_model_module": "@jupyter-widgets/base",
            "_model_module_version": "1.2.0",
            "_model_name": "LayoutModel",
            "_view_count": null,
            "_view_module": "@jupyter-widgets/base",
            "_view_module_version": "1.2.0",
            "_view_name": "LayoutView",
            "align_content": null,
            "align_items": null,
            "align_self": null,
            "border": null,
            "bottom": null,
            "display": null,
            "flex": null,
            "flex_flow": null,
            "grid_area": null,
            "grid_auto_columns": null,
            "grid_auto_flow": null,
            "grid_auto_rows": null,
            "grid_column": null,
            "grid_gap": null,
            "grid_row": null,
            "grid_template_areas": null,
            "grid_template_columns": null,
            "grid_template_rows": null,
            "height": null,
            "justify_content": null,
            "justify_items": null,
            "left": null,
            "margin": null,
            "max_height": null,
            "max_width": null,
            "min_height": null,
            "min_width": null,
            "object_fit": null,
            "object_position": null,
            "order": null,
            "overflow": null,
            "overflow_x": null,
            "overflow_y": null,
            "padding": null,
            "right": null,
            "top": null,
            "visibility": null,
            "width": null
          }
        },
        "ee38ce0eea6a41298f70b1f30d7bb5cb": {
          "model_module": "@jupyter-widgets/base",
          "model_name": "LayoutModel",
          "model_module_version": "1.2.0",
          "state": {
            "_model_module": "@jupyter-widgets/base",
            "_model_module_version": "1.2.0",
            "_model_name": "LayoutModel",
            "_view_count": null,
            "_view_module": "@jupyter-widgets/base",
            "_view_module_version": "1.2.0",
            "_view_name": "LayoutView",
            "align_content": null,
            "align_items": null,
            "align_self": null,
            "border": null,
            "bottom": null,
            "display": null,
            "flex": null,
            "flex_flow": null,
            "grid_area": null,
            "grid_auto_columns": null,
            "grid_auto_flow": null,
            "grid_auto_rows": null,
            "grid_column": null,
            "grid_gap": null,
            "grid_row": null,
            "grid_template_areas": null,
            "grid_template_columns": null,
            "grid_template_rows": null,
            "height": null,
            "justify_content": null,
            "justify_items": null,
            "left": null,
            "margin": null,
            "max_height": null,
            "max_width": null,
            "min_height": null,
            "min_width": null,
            "object_fit": null,
            "object_position": null,
            "order": null,
            "overflow": null,
            "overflow_x": null,
            "overflow_y": null,
            "padding": null,
            "right": null,
            "top": null,
            "visibility": null,
            "width": null
          }
        },
        "6724effc086949f6b033e39b24b74046": {
          "model_module": "@jupyter-widgets/controls",
          "model_name": "DescriptionStyleModel",
          "model_module_version": "1.5.0",
          "state": {
            "_model_module": "@jupyter-widgets/controls",
            "_model_module_version": "1.5.0",
            "_model_name": "DescriptionStyleModel",
            "_view_count": null,
            "_view_module": "@jupyter-widgets/base",
            "_view_module_version": "1.2.0",
            "_view_name": "StyleView",
            "description_width": ""
          }
        },
        "f5164f9ac8284ed1aad193b26dc6cda6": {
          "model_module": "@jupyter-widgets/base",
          "model_name": "LayoutModel",
          "model_module_version": "1.2.0",
          "state": {
            "_model_module": "@jupyter-widgets/base",
            "_model_module_version": "1.2.0",
            "_model_name": "LayoutModel",
            "_view_count": null,
            "_view_module": "@jupyter-widgets/base",
            "_view_module_version": "1.2.0",
            "_view_name": "LayoutView",
            "align_content": null,
            "align_items": null,
            "align_self": null,
            "border": null,
            "bottom": null,
            "display": null,
            "flex": null,
            "flex_flow": null,
            "grid_area": null,
            "grid_auto_columns": null,
            "grid_auto_flow": null,
            "grid_auto_rows": null,
            "grid_column": null,
            "grid_gap": null,
            "grid_row": null,
            "grid_template_areas": null,
            "grid_template_columns": null,
            "grid_template_rows": null,
            "height": null,
            "justify_content": null,
            "justify_items": null,
            "left": null,
            "margin": null,
            "max_height": null,
            "max_width": null,
            "min_height": null,
            "min_width": null,
            "object_fit": null,
            "object_position": null,
            "order": null,
            "overflow": null,
            "overflow_x": null,
            "overflow_y": null,
            "padding": null,
            "right": null,
            "top": null,
            "visibility": null,
            "width": null
          }
        },
        "246b75bd73964f4bab8751cd72f4d69d": {
          "model_module": "@jupyter-widgets/controls",
          "model_name": "ProgressStyleModel",
          "model_module_version": "1.5.0",
          "state": {
            "_model_module": "@jupyter-widgets/controls",
            "_model_module_version": "1.5.0",
            "_model_name": "ProgressStyleModel",
            "_view_count": null,
            "_view_module": "@jupyter-widgets/base",
            "_view_module_version": "1.2.0",
            "_view_name": "StyleView",
            "bar_color": null,
            "description_width": ""
          }
        },
        "7a417976fd60412aa5e86cbc6f1ab9c9": {
          "model_module": "@jupyter-widgets/base",
          "model_name": "LayoutModel",
          "model_module_version": "1.2.0",
          "state": {
            "_model_module": "@jupyter-widgets/base",
            "_model_module_version": "1.2.0",
            "_model_name": "LayoutModel",
            "_view_count": null,
            "_view_module": "@jupyter-widgets/base",
            "_view_module_version": "1.2.0",
            "_view_name": "LayoutView",
            "align_content": null,
            "align_items": null,
            "align_self": null,
            "border": null,
            "bottom": null,
            "display": null,
            "flex": null,
            "flex_flow": null,
            "grid_area": null,
            "grid_auto_columns": null,
            "grid_auto_flow": null,
            "grid_auto_rows": null,
            "grid_column": null,
            "grid_gap": null,
            "grid_row": null,
            "grid_template_areas": null,
            "grid_template_columns": null,
            "grid_template_rows": null,
            "height": null,
            "justify_content": null,
            "justify_items": null,
            "left": null,
            "margin": null,
            "max_height": null,
            "max_width": null,
            "min_height": null,
            "min_width": null,
            "object_fit": null,
            "object_position": null,
            "order": null,
            "overflow": null,
            "overflow_x": null,
            "overflow_y": null,
            "padding": null,
            "right": null,
            "top": null,
            "visibility": null,
            "width": null
          }
        },
        "c92527a49e6c4bde9786e92549274fb2": {
          "model_module": "@jupyter-widgets/controls",
          "model_name": "DescriptionStyleModel",
          "model_module_version": "1.5.0",
          "state": {
            "_model_module": "@jupyter-widgets/controls",
            "_model_module_version": "1.5.0",
            "_model_name": "DescriptionStyleModel",
            "_view_count": null,
            "_view_module": "@jupyter-widgets/base",
            "_view_module_version": "1.2.0",
            "_view_name": "StyleView",
            "description_width": ""
          }
        }
      }
    },
    "accelerator": "GPU"
  },
  "nbformat": 4,
  "nbformat_minor": 0
}